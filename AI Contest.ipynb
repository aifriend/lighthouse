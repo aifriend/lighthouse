{
 "cells": [
  {
   "cell_type": "markdown",
   "metadata": {},
   "source": [
    "Euskal Encounter 21\n",
    "AI Contest\n",
    "Motor del juego\n",
    "\n",
    "conda install nb_conda\n",
    "\n",
    "Requisitos:\n",
    "\tPython v2.6.x o v2.7.x\n",
    "\t\t# apt-get install python2.7\n",
    "\tPyGame\n",
    "\t\t# apt-get install python-pygame\n",
    "\n",
    "Uso:\n",
    "$ python2.7 engine/game.py maps/<mapa.txt> 'comando player0' 'comando player1'..."
   ]
  },
  {
   "cell_type": "code",
   "execution_count": null,
   "metadata": {},
   "outputs": [],
   "source": [
    "%lsmagic"
   ]
  },
  {
   "cell_type": "code",
   "execution_count": null,
   "metadata": {},
   "outputs": [],
   "source": [
    "%pwd"
   ]
  },
  {
   "cell_type": "code",
   "execution_count": 6,
   "metadata": {},
   "outputs": [],
   "source": [
    "%matplotlib inline"
   ]
  },
  {
   "cell_type": "code",
   "execution_count": 3,
   "metadata": {},
   "outputs": [
    {
     "data": {
      "image/png": "[encoded data removed]",
      "text/plain": [
       "<Figure size 432x288 with 1 Axes>"
      ]
     },
     "metadata": {
      "needs_background": "light"
     },
     "output_type": "display_data"
    }
   ],
   "source": [
    "import numpy as np\n",
    "import matplotlib.pyplot as plt\n",
    "\n",
    "N = 50\n",
    "x = np.random.rand(N)\n",
    "y = np.random.rand(N)\n",
    "colors = np.random.rand(N)\n",
    "area = np.pi * (15 * np.random.rand(N))**2  #0 to 15 point radiuses\n",
    "\n",
    "plt.scatter(x, y, s=area, c=colors, alpha=0.5)\n",
    "plt.show()"
   ]
  },
  {
   "cell_type": "code",
   "execution_count": 7,
   "metadata": {},
   "outputs": [
    {
     "data": {
      "text/html": [
       "<div>\n",
       "<style scoped>\n",
       "    .dataframe tbody tr th:only-of-type {\n",
       "        vertical-align: middle;\n",
       "    }\n",
       "\n",
       "    .dataframe tbody tr th {\n",
       "        vertical-align: top;\n",
       "    }\n",
       "\n",
       "    .dataframe thead th {\n",
       "        text-align: right;\n",
       "    }\n",
       "</style>\n",
       "<table border=\"1\" class=\"dataframe\">\n",
       "  <thead>\n",
       "    <tr style=\"text-align: right;\">\n",
       "      <th></th>\n",
       "      <th>0</th>\n",
       "      <th>1</th>\n",
       "      <th>2</th>\n",
       "      <th>3</th>\n",
       "      <th>4</th>\n",
       "    </tr>\n",
       "  </thead>\n",
       "  <tbody>\n",
       "    <tr>\n",
       "      <th>0</th>\n",
       "      <td>-0.165370</td>\n",
       "      <td>-1.274360</td>\n",
       "      <td>-0.551282</td>\n",
       "      <td>-0.963348</td>\n",
       "      <td>-0.172091</td>\n",
       "    </tr>\n",
       "    <tr>\n",
       "      <th>1</th>\n",
       "      <td>-0.442036</td>\n",
       "      <td>0.819611</td>\n",
       "      <td>2.100189</td>\n",
       "      <td>-0.124706</td>\n",
       "      <td>1.467561</td>\n",
       "    </tr>\n",
       "    <tr>\n",
       "      <th>2</th>\n",
       "      <td>-0.490092</td>\n",
       "      <td>-0.618457</td>\n",
       "      <td>-0.856192</td>\n",
       "      <td>1.245039</td>\n",
       "      <td>-0.615005</td>\n",
       "    </tr>\n",
       "    <tr>\n",
       "      <th>3</th>\n",
       "      <td>-0.229645</td>\n",
       "      <td>-0.278378</td>\n",
       "      <td>-0.754122</td>\n",
       "      <td>1.958414</td>\n",
       "      <td>-0.965091</td>\n",
       "    </tr>\n",
       "    <tr>\n",
       "      <th>4</th>\n",
       "      <td>0.376486</td>\n",
       "      <td>2.008926</td>\n",
       "      <td>0.997905</td>\n",
       "      <td>0.687900</td>\n",
       "      <td>0.579512</td>\n",
       "    </tr>\n",
       "  </tbody>\n",
       "</table>\n",
       "</div>"
      ],
      "text/plain": [
       "          0         1         2         3         4\n",
       "0 -0.165370 -1.274360 -0.551282 -0.963348 -0.172091\n",
       "1 -0.442036  0.819611  2.100189 -0.124706  1.467561\n",
       "2 -0.490092 -0.618457 -0.856192  1.245039 -0.615005\n",
       "3 -0.229645 -0.278378 -0.754122  1.958414 -0.965091\n",
       "4  0.376486  2.008926  0.997905  0.687900  0.579512"
      ]
     },
     "execution_count": 7,
     "metadata": {},
     "output_type": "execute_result"
    }
   ],
   "source": [
    "import pandas as pd\n",
    "import numpy as np\n",
    "\n",
    "df = pd.DataFrame(np.random.randn(10,5))\n",
    "df.head()"
   ]
  },
  {
   "cell_type": "code",
   "execution_count": 5,
   "metadata": {},
   "outputs": [
    {
     "name": "stdout",
     "output_type": "stream",
     "text": [
      "c.....\n",
      "#.....\n",
      "##....\n",
      "###...\n",
      "####..\n",
      "a....b\n"
     ]
    },
    {
     "data": {
      "text/plain": [
       "<function print>"
      ]
     },
     "execution_count": 5,
     "metadata": {},
     "output_type": "execute_result"
    }
   ],
   "source": [
    "    def _bias(p0, p1):\n",
    "        if (p0[1] == p1[1] and p0[0] > p1[0]) or p0[1] > p1[1]:\n",
    "            return 0\n",
    "        else:\n",
    "            return -1\n",
    "\n",
    "    def orient2d(a, b, c):\n",
    "        return (b[0] - a[0]) * (c[1] - a[1]) - (c[0] - a[0]) * (b[1] - a[1])\n",
    "\n",
    "    def render(points):\n",
    "        v0, v1, v2 = points\n",
    "        if orient2d(v0, v1, v2) < 0:\n",
    "            v0, v1 = v1, v0\n",
    "        x0 = min(v0[0], v1[0], v2[0])\n",
    "        x1 = max(v0[0], v1[0], v2[0])\n",
    "        y0 = min(v0[1], v1[1], v2[1])\n",
    "        y1 = max(v0[1], v1[1], v2[1])\n",
    "        for y in range(y0, y1+1):\n",
    "            for x in range(x0, x1+1):\n",
    "                p = x, y\n",
    "                w0 = orient2d(v1, v2, p) + _bias(v1, v2)\n",
    "                w1 = orient2d(v2, v0, p) + _bias(v2, v0)\n",
    "                w2 = orient2d(v0, v1, p) + _bias(v0, v1)\n",
    "                if w0 >= 0 and w1 >= 0 and w2 >= 0:\n",
    "                    yield p\n",
    "    \n",
    "    points = ((0, 0), (5, 0), (0, 5))\n",
    "    w = 1+max(p[0] for p in points)\n",
    "    h = 1+max(p[1] for p in points)\n",
    "    s = [[\".\"] * w for i in range(h)]\n",
    "    for x, y in render(points):\n",
    "        s[y][x] = \"#\"\n",
    "    for i, (x, y) in enumerate(points):\n",
    "        s[y][x] = (\"ABC\",\"abc\")[s[y][x] == \".\"][i]\n",
    "    for l in s[::-1]:\n",
    "        print(\"\".join(l))\n",
    "    print"
   ]
  },
  {
   "cell_type": "code",
   "execution_count": null,
   "metadata": {},
   "outputs": [],
   "source": []
  }
 ],
 "metadata": {
  "kernelspec": {
   "display_name": "Python (lh)",
   "language": "python",
   "name": "light-house"
  },
  "language_info": {
   "codemirror_mode": {
    "name": "ipython",
    "version": 3
   },
   "file_extension": ".py",
   "mimetype": "text/x-python",
   "name": "python",
   "nbconvert_exporter": "python",
   "pygments_lexer": "ipython3",
   "version": "3.6.7"
  }
 },
 "nbformat": 4,
 "nbformat_minor": 2
}
